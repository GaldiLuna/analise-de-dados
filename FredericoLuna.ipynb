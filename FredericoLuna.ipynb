{
  "nbformat": 4,
  "nbformat_minor": 0,
  "metadata": {
    "colab": {
      "provenance": [],
      "mount_file_id": "1V0EDB7PCW8jGe_IZmf5pf7m0LBH3cLml",
      "authorship_tag": "ABX9TyNR8cdobEAgVS9qGsNS0iD+",
      "include_colab_link": true
    },
    "kernelspec": {
      "name": "python3",
      "display_name": "Python 3"
    },
    "language_info": {
      "name": "python"
    }
  },
  "cells": [
    {
      "cell_type": "markdown",
      "metadata": {
        "id": "view-in-github",
        "colab_type": "text"
      },
      "source": [
        "<a href=\"https://colab.research.google.com/github/GaldiLuna/analise-de-dados/blob/main/FredericoLuna.ipynb\" target=\"_parent\"><img src=\"https://colab.research.google.com/assets/colab-badge.svg\" alt=\"Open In Colab\"/></a>"
      ]
    },
    {
      "cell_type": "markdown",
      "source": [
        "Esse exercício conta como uma prova, já que é necessário que ele seja completado para a geração do teu certificado.\n",
        "\n",
        "Crie uma cópia desse arquivo com o Teu Nome e envie para mim via Whatsapp ou diretamente para o Email: ulpio@email.com\n",
        "\n",
        "Boa Sorte!\n",
        "\n",
        "Arquivo : data.csv\n",
        "Este arquivo é um relatório de monitoramento via SmartWatch de um usuário Nele temos as informações do \"Modo Esporte\" Onde quando ativado trás os seguintes dados: Duração,Data,Pulso,PulsoMax,Calorias. Tendo isso em vista:\n",
        "\n",
        "obs :O arquivo possui dados em branco, trate-os sem excluir as linhas\n",
        "obs2 :O arquivo pode conter dados que estejam alterados(Fora do padrão) Corrija.\n",
        "Qual o Pulso Médio do Usuário?\n",
        "\n",
        "Qual a mediana do Pulso Máximo?\n",
        "\n",
        "Qual a moda do Pulso?\n",
        "\n",
        "Qual é a mediana da duração?\n",
        "\n",
        "Agora, sobre gráficos:\n",
        "\n",
        "1: Relação usando linha entre duração e Calorias\n",
        "\n",
        "2: Relação entre o Pulso e as Calorias\n",
        "\n",
        "3: Relação entre duração e Pulso Máximo\n",
        "\n",
        "4: Relação entre (Duração,Pulso,Pulso Máximo) e Calorias\n",
        "\n",
        "*Obs Sempre que possível organizar os dados que serão utilizados, quero graficos lineares(que não passão por cima de si mesmos)"
      ],
      "metadata": {
        "id": "O5YYFwlWJRl3"
      }
    },
    {
      "cell_type": "markdown",
      "source": [
        "Aluno: **Frederico Lucas de Luna**"
      ],
      "metadata": {
        "id": "eKlOfslQJdoP"
      }
    },
    {
      "cell_type": "code",
      "execution_count": 3,
      "metadata": {
        "colab": {
          "base_uri": "https://localhost:8080/"
        },
        "id": "SjRpe54zJLKf",
        "outputId": "d29a8f0a-dd62-430e-a1db-637f9918677d"
      },
      "outputs": [
        {
          "output_type": "stream",
          "name": "stdout",
          "text": [
            "Drive already mounted at /content/drive; to attempt to forcibly remount, call drive.mount(\"/content/drive\", force_remount=True).\n"
          ]
        }
      ],
      "source": [
        "from google.colab import drive\n",
        "drive.mount('/content/drive')"
      ]
    },
    {
      "cell_type": "code",
      "source": [
        "!pip install matplotlib\n",
        "!pip install numpy\n",
        "!pip install pandas"
      ],
      "metadata": {
        "colab": {
          "base_uri": "https://localhost:8080/"
        },
        "id": "dy9M1KRCK-hT",
        "outputId": "cba3fa65-cec2-48ff-e127-a5dd9b8a4a7d"
      },
      "execution_count": 5,
      "outputs": [
        {
          "output_type": "stream",
          "name": "stdout",
          "text": [
            "Looking in indexes: https://pypi.org/simple, https://us-python.pkg.dev/colab-wheels/public/simple/\n",
            "Requirement already satisfied: matplotlib in /usr/local/lib/python3.8/dist-packages (3.5.3)\n",
            "Requirement already satisfied: numpy>=1.17 in /usr/local/lib/python3.8/dist-packages (from matplotlib) (1.22.4)\n",
            "Requirement already satisfied: packaging>=20.0 in /usr/local/lib/python3.8/dist-packages (from matplotlib) (23.0)\n",
            "Requirement already satisfied: pillow>=6.2.0 in /usr/local/lib/python3.8/dist-packages (from matplotlib) (8.4.0)\n",
            "Requirement already satisfied: fonttools>=4.22.0 in /usr/local/lib/python3.8/dist-packages (from matplotlib) (4.38.0)\n",
            "Requirement already satisfied: cycler>=0.10 in /usr/local/lib/python3.8/dist-packages (from matplotlib) (0.11.0)\n",
            "Requirement already satisfied: kiwisolver>=1.0.1 in /usr/local/lib/python3.8/dist-packages (from matplotlib) (1.4.4)\n",
            "Requirement already satisfied: pyparsing>=2.2.1 in /usr/local/lib/python3.8/dist-packages (from matplotlib) (3.0.9)\n",
            "Requirement already satisfied: python-dateutil>=2.7 in /usr/local/lib/python3.8/dist-packages (from matplotlib) (2.8.2)\n",
            "Requirement already satisfied: six>=1.5 in /usr/local/lib/python3.8/dist-packages (from python-dateutil>=2.7->matplotlib) (1.15.0)\n",
            "Looking in indexes: https://pypi.org/simple, https://us-python.pkg.dev/colab-wheels/public/simple/\n",
            "Requirement already satisfied: numpy in /usr/local/lib/python3.8/dist-packages (1.22.4)\n",
            "Looking in indexes: https://pypi.org/simple, https://us-python.pkg.dev/colab-wheels/public/simple/\n",
            "Requirement already satisfied: pandas in /usr/local/lib/python3.8/dist-packages (1.3.5)\n",
            "Requirement already satisfied: pytz>=2017.3 in /usr/local/lib/python3.8/dist-packages (from pandas) (2022.7.1)\n",
            "Requirement already satisfied: python-dateutil>=2.7.3 in /usr/local/lib/python3.8/dist-packages (from pandas) (2.8.2)\n",
            "Requirement already satisfied: numpy>=1.17.3 in /usr/local/lib/python3.8/dist-packages (from pandas) (1.22.4)\n",
            "Requirement already satisfied: six>=1.5 in /usr/local/lib/python3.8/dist-packages (from python-dateutil>=2.7.3->pandas) (1.15.0)\n"
          ]
        }
      ]
    },
    {
      "cell_type": "code",
      "source": [
        "import pandas as pd\n",
        "import io\n",
        "from google.colab import files\n",
        "import matplotlib.pyplot as plt\n",
        "import numpy as np\n",
        "\n",
        "data_frame = pd.read_csv('/content/drive/MyDrive/Colab Notebooks/aedoxetech-main/data.csv')\n",
        "\n",
        "data_frame = data_frame.fillna(0)\n",
        "data_frame.loc[7,'Duração'] = 45"
      ],
      "metadata": {
        "id": "4NomGpnULZmI"
      },
      "execution_count": 6,
      "outputs": []
    },
    {
      "cell_type": "markdown",
      "source": [
        "Média do Pulso do Usuário"
      ],
      "metadata": {
        "id": "veepNH7iT6uc"
      }
    },
    {
      "cell_type": "code",
      "source": [
        "media_pulso = data_frame[\"Pulso\"].mean()\n",
        "print(\"A média do pulso do usuário foi de {} batimentos.\".format(media_pulso))"
      ],
      "metadata": {
        "colab": {
          "base_uri": "https://localhost:8080/"
        },
        "id": "duTbcPsYXxEf",
        "outputId": "2c8d48df-64ff-4f97-816b-c950ef282a2a"
      },
      "execution_count": 7,
      "outputs": [
        {
          "output_type": "stream",
          "name": "stdout",
          "text": [
            "A média do pulso do usuário foi de 103.5 batimentos.\n"
          ]
        }
      ]
    },
    {
      "cell_type": "markdown",
      "source": [
        "Mediana Pulso Máximo"
      ],
      "metadata": {
        "id": "ZXqCaW5hYTV-"
      }
    },
    {
      "cell_type": "code",
      "source": [
        "mediana_pulso_max = data_frame['PulsoMax'].median()\n",
        "print(\"A mediana do pulso máximo do usuário foi de {} batimentos\".format(mediana_pulso_max))"
      ],
      "metadata": {
        "colab": {
          "base_uri": "https://localhost:8080/"
        },
        "id": "xPwpgYwjYX7E",
        "outputId": "b2fda58c-cd88-458a-de98-ab5c1cfec0d8"
      },
      "execution_count": 8,
      "outputs": [
        {
          "output_type": "stream",
          "name": "stdout",
          "text": [
            "A mediana do pulso máximo do usuário foi de 127.5 batimentos\n"
          ]
        }
      ]
    },
    {
      "cell_type": "markdown",
      "source": [
        "Moda do Pulso"
      ],
      "metadata": {
        "id": "kPj4kvNCbYrH"
      }
    },
    {
      "cell_type": "code",
      "source": [
        "moda_pulso = data_frame['Pulso'].mode()\n",
        "print(\"A moda do pulso do usuário foi de {} batimentos.\".format(int(moda_pulso)))"
      ],
      "metadata": {
        "colab": {
          "base_uri": "https://localhost:8080/"
        },
        "id": "cIDdKSUHbajE",
        "outputId": "75fc5c97-a95d-41b3-c2b5-3587e532766d"
      },
      "execution_count": 9,
      "outputs": [
        {
          "output_type": "stream",
          "name": "stdout",
          "text": [
            "A moda do pulso do usuário foi de 100 batimentos.\n"
          ]
        }
      ]
    },
    {
      "cell_type": "markdown",
      "source": [
        "Mediana de Duração"
      ],
      "metadata": {
        "id": "3oCKG76wbtTe"
      }
    },
    {
      "cell_type": "code",
      "source": [
        "mediana_dur = data_frame['Duração'].median()\n",
        "print(\"A mediana da duração do usuário foi de {}.\".format(mediana_dur))"
      ],
      "metadata": {
        "colab": {
          "base_uri": "https://localhost:8080/"
        },
        "id": "RSbmVYjIbvkW",
        "outputId": "4604335d-ad0f-4ef0-c87a-10d3da761bb3"
      },
      "execution_count": 10,
      "outputs": [
        {
          "output_type": "stream",
          "name": "stdout",
          "text": [
            "A mediana da duração do usuário foi de 60.0.\n"
          ]
        }
      ]
    },
    {
      "cell_type": "markdown",
      "source": [
        "Gráfico em linha entre Duração e Calorias"
      ],
      "metadata": {
        "id": "NhY0HHPb4kph"
      }
    },
    {
      "cell_type": "code",
      "source": [
        "data_frame = data_frame.sort_values(by='Calorias')\n",
        "\n",
        "y = data_frame['Duração']\n",
        "x = data_frame['Calorias']\n",
        "\n",
        "fig , ax = plt.subplots()\n",
        "ax.plot(x,y)\n",
        "plt.show"
      ],
      "metadata": {
        "colab": {
          "base_uri": "https://localhost:8080/",
          "height": 282
        },
        "id": "lQo-VHGm4opv",
        "outputId": "416bb0bd-f9f8-4d64-eacf-571001c07b0a"
      },
      "execution_count": 12,
      "outputs": [
        {
          "output_type": "execute_result",
          "data": {
            "text/plain": [
              "<function matplotlib.pyplot.show(close=None, block=None)>"
            ]
          },
          "metadata": {},
          "execution_count": 12
        },
        {
          "output_type": "display_data",
          "data": {
            "text/plain": [
              "<Figure size 432x288 with 1 Axes>"
            ],
            "image/png": "[encoded data removed]"
          },
          "metadata": {
            "needs_background": "light"
          }
        }
      ]
    },
    {
      "cell_type": "markdown",
      "source": [
        "Relação entre pulso e calorias"
      ],
      "metadata": {
        "id": "zxvCycHg5Za6"
      }
    },
    {
      "cell_type": "code",
      "source": [
        "data_frame = data_frame.sort_values(by='Calorias')\n",
        "\n",
        "y = data_frame['Pulso']\n",
        "x = data_frame['Calorias']\n",
        "\n",
        "fig , ax = plt.subplots()\n",
        "ax.plot(x,y)\n",
        "plt.show"
      ],
      "metadata": {
        "colab": {
          "base_uri": "https://localhost:8080/",
          "height": 282
        },
        "id": "60gDPSMi5dCZ",
        "outputId": "fbe1da00-a18f-4cca-fe45-6f1241a23206"
      },
      "execution_count": 13,
      "outputs": [
        {
          "output_type": "execute_result",
          "data": {
            "text/plain": [
              "<function matplotlib.pyplot.show(close=None, block=None)>"
            ]
          },
          "metadata": {},
          "execution_count": 13
        },
        {
          "output_type": "display_data",
          "data": {
            "text/plain": [
              "<Figure size 432x288 with 1 Axes>"
            ],
            "image/png": "[encoded data removed]"
          },
          "metadata": {
            "needs_background": "light"
          }
        }
      ]
    },
    {
      "cell_type": "markdown",
      "source": [
        "Relação entre Duração e Pulso Máximo"
      ],
      "metadata": {
        "id": "FzTKMXQ05w6Z"
      }
    },
    {
      "cell_type": "code",
      "source": [
        "data_frame = data_frame.sort_values(by='PulsoMax')\n",
        "\n",
        "y = data_frame['Duração']\n",
        "x = data_frame['PulsoMax']\n",
        "\n",
        "fig , ax = plt.subplots()\n",
        "ax.plot(x,y)\n",
        "plt.show"
      ],
      "metadata": {
        "colab": {
          "base_uri": "https://localhost:8080/",
          "height": 282
        },
        "id": "E5Wo75-8538o",
        "outputId": "0fc0a674-84e1-4d53-c4da-8525ae418a5f"
      },
      "execution_count": 14,
      "outputs": [
        {
          "output_type": "execute_result",
          "data": {
            "text/plain": [
              "<function matplotlib.pyplot.show(close=None, block=None)>"
            ]
          },
          "metadata": {},
          "execution_count": 14
        },
        {
          "output_type": "display_data",
          "data": {
            "text/plain": [
              "<Figure size 432x288 with 1 Axes>"
            ],
            "image/png": "[encoded data removed]"
          },
          "metadata": {
            "needs_background": "light"
          }
        }
      ]
    },
    {
      "cell_type": "markdown",
      "source": [
        "Relação entre (Duração, Pulso, Pulso Máximo) e Calorias"
      ],
      "metadata": {
        "id": "r8tC1o4j6NLh"
      }
    },
    {
      "cell_type": "code",
      "source": [
        "data_frame = data_frame.sort_values(by='Calorias')\n",
        "\n",
        "x = data_frame['Calorias']\n",
        "ay = data_frame['Duração']\n",
        "by = data_frame['Pulso']\n",
        "cy = data_frame['PulsoMax']\n",
        "y = np.vstack([ay, by, cy])\n",
        "\n",
        "fig, ax = plt.subplots()\n",
        "\n",
        "ax.stackplot(x, y)\n",
        "plt.show"
      ],
      "metadata": {
        "colab": {
          "base_uri": "https://localhost:8080/",
          "height": 282
        },
        "id": "tjj8inY_6V_i",
        "outputId": "bde6e9e7-48ef-49e7-8ce2-3e4db1fd86e9"
      },
      "execution_count": 15,
      "outputs": [
        {
          "output_type": "execute_result",
          "data": {
            "text/plain": [
              "<function matplotlib.pyplot.show(close=None, block=None)>"
            ]
          },
          "metadata": {},
          "execution_count": 15
        },
        {
          "output_type": "display_data",
          "data": {
            "text/plain": [
              "<Figure size 432x288 with 1 Axes>"
            ],
            "image/png": "[encoded data removed]"
          },
          "metadata": {
            "needs_background": "light"
          }
        }
      ]
    }
  ]
}
